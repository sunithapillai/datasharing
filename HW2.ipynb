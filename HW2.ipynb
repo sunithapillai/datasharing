{
  "nbformat": 4,
  "nbformat_minor": 0,
  "metadata": {
    "colab": {
      "provenance": [],
      "authorship_tag": "ABX9TyOnn/pWzP7L+1KEY916fznM",
      "include_colab_link": true
    },
    "kernelspec": {
      "name": "python3",
      "display_name": "Python 3"
    },
    "language_info": {
      "name": "python"
    }
  },
  "cells": [
    {
      "cell_type": "markdown",
      "metadata": {
        "id": "view-in-github",
        "colab_type": "text"
      },
      "source": [
        "<a href=\"https://colab.research.google.com/github/sunithapillai/datasharing/blob/master/HW2.ipynb\" target=\"_parent\"><img src=\"https://colab.research.google.com/assets/colab-badge.svg\" alt=\"Open In Colab\"/></a>"
      ]
    },
    {
      "cell_type": "code",
      "execution_count": 1,
      "metadata": {
        "colab": {
          "base_uri": "https://localhost:8080/"
        },
        "id": "8B9JsaXVfMge",
        "outputId": "9f47b0b3-20c2-4bee-ad54-93a33210479b"
      },
      "outputs": [
        {
          "output_type": "stream",
          "name": "stdout",
          "text": [
            "TensorFlow version: 2.13.0\n"
          ]
        }
      ],
      "source": [
        "import tensorflow as tf\n",
        "print(\"TensorFlow version:\", tf.__version__)"
      ]
    },
    {
      "cell_type": "code",
      "source": [
        "from google.colab import drive\n",
        "drive.mount('/content/drive')"
      ],
      "metadata": {
        "colab": {
          "base_uri": "https://localhost:8080/"
        },
        "id": "GKwbjy25fWGz",
        "outputId": "e2647e17-4047-4644-91a5-7dbac93fef4a"
      },
      "execution_count": 2,
      "outputs": [
        {
          "output_type": "stream",
          "name": "stdout",
          "text": [
            "Drive already mounted at /content/drive; to attempt to forcibly remount, call drive.mount(\"/content/drive\", force_remount=True).\n"
          ]
        }
      ]
    },
    {
      "cell_type": "code",
      "source": [
        "\n",
        "data_dir = '/content/drive/MyDrive/training-validation'\n",
        "!ls $data_dir"
      ],
      "metadata": {
        "colab": {
          "base_uri": "https://localhost:8080/"
        },
        "id": "iZATA1po7O9y",
        "outputId": "867ba43b-9eef-42dd-e414-2b5f67a06b2e"
      },
      "execution_count": 3,
      "outputs": [
        {
          "output_type": "stream",
          "name": "stdout",
          "text": [
            "sub01  sub02  sub03  sub05\n"
          ]
        }
      ]
    },
    {
      "cell_type": "code",
      "source": [
        "import os\n",
        "import glob\n",
        "import pandas as pd\n",
        "csv_files = glob.glob(data_dir+\"/**/*.csv\")\n",
        "\n",
        "#dataread = [pd.read_csv(f, header=None) for f in csv_files]\n",
        "\n",
        "combined_csv = pd.concat([pd.read_csv(f, header=None) for f in csv_files], ignore_index=True)\n",
        "\n"
      ],
      "metadata": {
        "id": "PMi0sZpU79MW"
      },
      "execution_count": 16,
      "outputs": []
    },
    {
      "cell_type": "code",
      "source": [
        "del combined_csv[combined_csv.columns[0]]"
      ],
      "metadata": {
        "id": "SeKSIwx0E6JN"
      },
      "execution_count": 17,
      "outputs": []
    },
    {
      "cell_type": "code",
      "source": [
        "print (combined_csv)"
      ],
      "metadata": {
        "colab": {
          "base_uri": "https://localhost:8080/"
        },
        "id": "Vg4GOVZh9sJm",
        "outputId": "19e50d02-ac85-47c1-dccc-d32f357760f5"
      },
      "execution_count": 18,
      "outputs": [
        {
          "output_type": "stream",
          "name": "stdout",
          "text": [
            "         1   2   3  4\n",
            "0      167  -1  95  1\n",
            "1      160  -1  95  1\n",
            "2      160  -1  95  1\n",
            "3      160  -1  95  1\n",
            "4      117  -1  95  1\n",
            "...    ...  ..  .. ..\n",
            "18657  163  43  99  1\n",
            "18658  165  50  99  1\n",
            "18659  167  53  99  1\n",
            "18660  167  26  99  1\n",
            "18661  167  26  98  1\n",
            "\n",
            "[18662 rows x 4 columns]\n"
          ]
        }
      ]
    },
    {
      "cell_type": "code",
      "source": [],
      "metadata": {
        "id": "vSmmqjTEEZud"
      },
      "execution_count": null,
      "outputs": []
    }
  ]
}