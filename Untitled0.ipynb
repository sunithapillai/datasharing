{
  "nbformat": 4,
  "nbformat_minor": 0,
  "metadata": {
    "colab": {
      "provenance": [],
      "authorship_tag": "ABX9TyPkjUfie1CrA8YiU8PxQaCt",
      "include_colab_link": true
    },
    "kernelspec": {
      "name": "python3",
      "display_name": "Python 3"
    },
    "language_info": {
      "name": "python"
    }
  },
  "cells": [
    {
      "cell_type": "markdown",
      "metadata": {
        "id": "view-in-github",
        "colab_type": "text"
      },
      "source": [
        "<a href=\"https://colab.research.google.com/github/sunithapillai/datasharing/blob/master/Untitled0.ipynb\" target=\"_parent\"><img src=\"https://colab.research.google.com/assets/colab-badge.svg\" alt=\"Open In Colab\"/></a>"
      ]
    },
    {
      "cell_type": "code",
      "execution_count": 4,
      "metadata": {
        "id": "NypYwM6wdJsy"
      },
      "outputs": [],
      "source": [
        "import numpy as np\n",
        "import matplotlib.pyplot as plt\n",
        "from sklearn.datasets import fetch_olivetti_faces\n",
        "\n",
        "from sklearn.metrics import confusion_matrix\n",
        "from sklearn.model_selection import RepeatedStratifiedKFold\n",
        "from sklearn.model_selection import cross_val_score\n",
        "from sklearn.discriminant_analysis import LinearDiscriminantAnalysis as LDA\n",
        "from sklearn.model_selection import train_test_split\n",
        "\n",
        "import tensorflow as tf\n",
        "\n",
        "\n",
        "\n",
        "\n"
      ]
    },
    {
      "cell_type": "code",
      "source": [],
      "metadata": {
        "id": "daXmobCYYEIb"
      },
      "execution_count": 4,
      "outputs": []
    },
    {
      "cell_type": "code",
      "source": [
        "\n",
        "# Visualization\n",
        "def draw_vector(v0, v1, color='k', ax=None):\n",
        "    ax = ax or plt.gca()\n",
        "    arrowprops=dict(arrowstyle='->', linewidth=2, shrinkA=0, shrinkB=0, color=color)\n",
        "    ax.annotate('', v1, v0, arrowprops=arrowprops)\n",
        "\n",
        "def plot(X, y, pca=None, lda=None):\n",
        "    plt.scatter(X[:, 0], X[:, 1], c=y, alpha=0.2)\n",
        "\n",
        "    if pca is not None:\n",
        "        # draw first component\n",
        "        length, vector = pca.explained_variance_[0], pca.components_[0]\n",
        "        v = vector / np.sqrt(vector**2)\n",
        "        draw_vector(pca.mean_, pca.mean_ + v)\n",
        "\n",
        "    if lda is not None:\n",
        "        # draw first component\n",
        "        length, vector = lda.intercept_[0], lda.coef_[0]\n",
        "        v = vector / np.sqrt(vector**2)\n",
        "        draw_vector(lda.xbar_, lda.xbar_ + v, color='r')\n",
        "\n",
        "    plt.axis('equal')\n",
        "    plt.show()\n",
        "\n",
        "def show_images(imgs, num_rows, num_cols):\n",
        "    assert len(imgs) == num_rows*num_cols\n",
        "\n",
        "    for i in range(num_rows):\n",
        "        row = None\n",
        "        for j in range(num_cols):\n",
        "            if row is None:\n",
        "                row = imgs[i*num_cols+j]\n",
        "            else:\n",
        "                row = np.concatenate((row, imgs[i*num_cols+j]), axis=1)\n",
        "        plt.imshow(row, cmap='gray')\n",
        "        plt.axis('off')\n",
        "        plt.show()\n",
        "\n",
        "# Visualization\n",
        "def plotldaoutput(X, y, lda=None):\n",
        "    plt.scatter(X[:, 0], X[:, 1], c=y, alpha=0.2)\n",
        "\n",
        "    if lda is not None:\n",
        "        # draw first two components\n",
        "        length, vector = lda.intercept_[0], lda.coef_[0][:2]\n",
        "        v = vector / np.sqrt(vector**2)\n",
        "        draw_vector(lda.xbar_[:2], lda.xbar_[:2] + v, color='r')\n",
        "\n",
        "    plt.axis('equal')\n",
        "    plt.show()\n",
        "\n",
        "def plot_confusion(cm):\n",
        "    plt.rcParams[\"figure.figsize\"] = (15,15)\n",
        "    fig, ax = plt.subplots()\n",
        "    c= ax.matshow(cm, cmap='copper')\n",
        "    fig.colorbar(c, ax=ax)\n",
        "    for i in range(len(cm)):\n",
        "        for j in range(len(cm[0])):\n",
        "            text = ax.text(j, i, cm[i, j], ha='center', va='center', color='w', fontsize=10, weight='bold')\n",
        "    plt.xticks(range(40))\n",
        "    plt.yticks(range(40))\n",
        "    plt.show()\n",
        "\n",
        "\n",
        "\n",
        "\n"
      ],
      "metadata": {
        "id": "kxGfTeSnemYL"
      },
      "execution_count": 5,
      "outputs": []
    },
    {
      "cell_type": "code",
      "execution_count": 7,
      "metadata": {
        "colab": {
          "base_uri": "https://localhost:8080/"
        },
        "outputId": "33b0276d-60af-454b-ccdb-a3cd84cec7bf",
        "id": "cARN6V9henWw"
      },
      "outputs": [
        {
          "output_type": "stream",
          "name": "stdout",
          "text": [
            "downloading Olivetti faces from https://ndownloader.figshare.com/files/5976027 to /root/scikit_learn_data\n",
            "(400, 64, 64)\n",
            "(320, 64, 64)\n"
          ]
        }
      ],
      "source": [
        "\n",
        "\n",
        "# Get the dataset\n",
        "\n",
        "faces = fetch_olivetti_faces()\n",
        "\n",
        "_, img_height, img_width = faces.images.shape\n",
        "\n",
        "print(faces.images.shape)\n",
        "\n",
        "\n",
        "x_train, x_test, y_train, y_test = train_test_split(faces.images, faces.target, test_size=0.2, random_state=0)\n",
        "\n",
        "print(x_train.shape)\n",
        "\n",
        "#model = tf.keras.models.Sequential()\n",
        "\n",
        "# # data normalization\n",
        "# x_train = np.expand_dims(x_train, 3)\n",
        "# x_train = x_train.astype(np.float32)\n",
        "# x_train /= 255\n",
        "\n",
        "# x_test = np.expand_dims(x_test, 3)\n",
        "# x_test = x_test.astype(np.float32)\n",
        "# x_test /= 255\n",
        "\n",
        "# print(x_train.shape, y_train.shape, x_train.dtype, y_train.dtype)\n",
        "# print(x_test.shape, y_test.shape)"
      ]
    },
    {
      "cell_type": "code",
      "source": [
        "model = tf.keras.models.Sequential()\n",
        "model.add(tf.keras.layers.Conv2D(filters=6, kernel_size=(5, 5), activation='relu', input_shape=(28, 28, 1)))\n",
        "model.add(tf.keras.layers.MaxPool2D())\n",
        "model.add(tf.keras.layers.Conv2D(filters=16, kernel_size=(5, 5), activation='relu'))\n",
        "model.add(tf.keras.layers.MaxPool2D())\n",
        "model.add(tf.keras.layers.Flatten())\n",
        "model.add(tf.keras.layers.Dense(units=120, activation='relu'))\n",
        "model.add(tf.keras.layers.Dense(units=84, activation='relu'))\n",
        "model.add(tf.keras.layers.Dense(units=10, activation = 'softmax'))\n",
        "\n",
        "print(model.summary())"
      ],
      "metadata": {
        "colab": {
          "base_uri": "https://localhost:8080/"
        },
        "id": "74CF8XwkdPGd",
        "outputId": "12bdfa46-620a-416b-c5d7-2554f48b2b01"
      },
      "execution_count": 8,
      "outputs": [
        {
          "output_type": "stream",
          "name": "stdout",
          "text": [
            "Model: \"sequential\"\n",
            "_________________________________________________________________\n",
            " Layer (type)                Output Shape              Param #   \n",
            "=================================================================\n",
            " conv2d (Conv2D)             (None, 24, 24, 6)         156       \n",
            "                                                                 \n",
            " max_pooling2d (MaxPooling2D  (None, 12, 12, 6)        0         \n",
            " )                                                               \n",
            "                                                                 \n",
            " conv2d_1 (Conv2D)           (None, 8, 8, 16)          2416      \n",
            "                                                                 \n",
            " max_pooling2d_1 (MaxPooling  (None, 4, 4, 16)         0         \n",
            " 2D)                                                             \n",
            "                                                                 \n",
            " flatten (Flatten)           (None, 256)               0         \n",
            "                                                                 \n",
            " dense (Dense)               (None, 120)               30840     \n",
            "                                                                 \n",
            " dense_1 (Dense)             (None, 84)                10164     \n",
            "                                                                 \n",
            " dense_2 (Dense)             (None, 10)                850       \n",
            "                                                                 \n",
            "=================================================================\n",
            "Total params: 44,426\n",
            "Trainable params: 44,426\n",
            "Non-trainable params: 0\n",
            "_________________________________________________________________\n",
            "None\n"
          ]
        }
      ]
    }
  ]
}